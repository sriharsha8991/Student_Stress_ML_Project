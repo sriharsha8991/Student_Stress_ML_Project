{
 "cells": [
  {
   "cell_type": "markdown",
   "id": "a1be30af",
   "metadata": {},
   "source": [
    "Attributes:\n",
    "\n",
    "1. BMI - (UW, NW, OW, OB)\n",
    "    Underweight: BMI less than 18.5\n",
    "    Normal weight: BMI between 18.5 and 24.9\n",
    "    Overweight: BMI between 25 and 29.9\n",
    "    Obese: BMI 30 or greater\n",
    "2. Avg_hours_of_sleep - (1-10)\n",
    "\n",
    "3. No._of_Friends - (0-6) --> 6 friends indicates he/She can have more than 6 friends also\n",
    "\n",
    "4. Character_type - (0,1)\n",
    "    0-Introvert\n",
    "    1-Extrovert\n",
    "5. Academic_score - (0-100)\n",
    "\n",
    "6. Stressed -(0,1)\n",
    "    0-Student_not_stressed\n",
    "    1-Student_stressed"
   ]
  },
  {
   "cell_type": "code",
   "execution_count": 1,
   "id": "4a0aeb75",
   "metadata": {},
   "outputs": [],
   "source": [
    "import random as rd\n",
    "sleep = rd.choices(list(range(2,12)),k=100)\n",
    "frnds = rd.choices(list(range(0,7)),k=100)"
   ]
  },
  {
   "cell_type": "code",
   "execution_count": null,
   "id": "f32bccdf",
   "metadata": {},
   "outputs": [],
   "source": [
    "\n"
   ]
  },
  {
   "cell_type": "code",
   "execution_count": 2,
   "id": "6ecb60a6",
   "metadata": {},
   "outputs": [],
   "source": [
    "data = {\"sleep_hours\":sleep,\n",
    "       \"friends\":frnds}"
   ]
  },
  {
   "cell_type": "code",
   "execution_count": 3,
   "id": "4bdf415e",
   "metadata": {},
   "outputs": [
    {
     "data": {
      "application/javascript": [
       "\n",
       "        if (window._pyforest_update_imports_cell) { window._pyforest_update_imports_cell('import pandas as pd'); }\n",
       "    "
      ],
      "text/plain": [
       "<IPython.core.display.Javascript object>"
      ]
     },
     "metadata": {},
     "output_type": "display_data"
    }
   ],
   "source": [
    "df = pd.DataFrame(data)"
   ]
  },
  {
   "cell_type": "code",
   "execution_count": 4,
   "id": "a02f6160",
   "metadata": {},
   "outputs": [
    {
     "data": {
      "text/plain": [
       "4     16\n",
       "3     15\n",
       "11    12\n",
       "6     11\n",
       "8     10\n",
       "7     10\n",
       "5      9\n",
       "10     7\n",
       "2      6\n",
       "9      4\n",
       "Name: sleep_hours, dtype: int64"
      ]
     },
     "execution_count": 4,
     "metadata": {},
     "output_type": "execute_result"
    }
   ],
   "source": [
    "df.sleep_hours.value_counts()"
   ]
  },
  {
   "cell_type": "code",
   "execution_count": 5,
   "id": "cfa0533b",
   "metadata": {},
   "outputs": [
    {
     "data": {
      "text/plain": [
       "5    18\n",
       "4    16\n",
       "0    16\n",
       "1    15\n",
       "6    13\n",
       "3    12\n",
       "2    10\n",
       "Name: friends, dtype: int64"
      ]
     },
     "execution_count": 5,
     "metadata": {},
     "output_type": "execute_result"
    }
   ],
   "source": [
    "df.friends.value_counts()"
   ]
  },
  {
   "cell_type": "code",
   "execution_count": 6,
   "id": "b8e47146",
   "metadata": {},
   "outputs": [],
   "source": [
    "character = []\n",
    "for i in df.friends:\n",
    "    if i>3:\n",
    "        character.append(0)\n",
    "    else:\n",
    "        character.append(1)"
   ]
  },
  {
   "cell_type": "code",
   "execution_count": 7,
   "id": "115e23c0",
   "metadata": {},
   "outputs": [],
   "source": [
    "df['Nature'] = character"
   ]
  },
  {
   "cell_type": "code",
   "execution_count": 8,
   "id": "1c5269c6",
   "metadata": {},
   "outputs": [
    {
     "data": {
      "text/plain": [
       "1    53\n",
       "0    47\n",
       "Name: Nature, dtype: int64"
      ]
     },
     "execution_count": 8,
     "metadata": {},
     "output_type": "execute_result"
    }
   ],
   "source": [
    "df.Nature.value_counts()"
   ]
  },
  {
   "cell_type": "code",
   "execution_count": 9,
   "id": "f65564af",
   "metadata": {},
   "outputs": [
    {
     "data": {
      "text/html": [
       "<div>\n",
       "<style scoped>\n",
       "    .dataframe tbody tr th:only-of-type {\n",
       "        vertical-align: middle;\n",
       "    }\n",
       "\n",
       "    .dataframe tbody tr th {\n",
       "        vertical-align: top;\n",
       "    }\n",
       "\n",
       "    .dataframe thead th {\n",
       "        text-align: right;\n",
       "    }\n",
       "</style>\n",
       "<table border=\"1\" class=\"dataframe\">\n",
       "  <thead>\n",
       "    <tr style=\"text-align: right;\">\n",
       "      <th></th>\n",
       "      <th>sleep_hours</th>\n",
       "      <th>friends</th>\n",
       "      <th>Nature</th>\n",
       "    </tr>\n",
       "  </thead>\n",
       "  <tbody>\n",
       "    <tr>\n",
       "      <th>0</th>\n",
       "      <td>11</td>\n",
       "      <td>6</td>\n",
       "      <td>0</td>\n",
       "    </tr>\n",
       "    <tr>\n",
       "      <th>1</th>\n",
       "      <td>4</td>\n",
       "      <td>1</td>\n",
       "      <td>1</td>\n",
       "    </tr>\n",
       "    <tr>\n",
       "      <th>2</th>\n",
       "      <td>11</td>\n",
       "      <td>6</td>\n",
       "      <td>0</td>\n",
       "    </tr>\n",
       "    <tr>\n",
       "      <th>3</th>\n",
       "      <td>5</td>\n",
       "      <td>6</td>\n",
       "      <td>0</td>\n",
       "    </tr>\n",
       "    <tr>\n",
       "      <th>4</th>\n",
       "      <td>4</td>\n",
       "      <td>3</td>\n",
       "      <td>1</td>\n",
       "    </tr>\n",
       "    <tr>\n",
       "      <th>...</th>\n",
       "      <td>...</td>\n",
       "      <td>...</td>\n",
       "      <td>...</td>\n",
       "    </tr>\n",
       "    <tr>\n",
       "      <th>95</th>\n",
       "      <td>10</td>\n",
       "      <td>0</td>\n",
       "      <td>1</td>\n",
       "    </tr>\n",
       "    <tr>\n",
       "      <th>96</th>\n",
       "      <td>11</td>\n",
       "      <td>5</td>\n",
       "      <td>0</td>\n",
       "    </tr>\n",
       "    <tr>\n",
       "      <th>97</th>\n",
       "      <td>11</td>\n",
       "      <td>5</td>\n",
       "      <td>0</td>\n",
       "    </tr>\n",
       "    <tr>\n",
       "      <th>98</th>\n",
       "      <td>3</td>\n",
       "      <td>1</td>\n",
       "      <td>1</td>\n",
       "    </tr>\n",
       "    <tr>\n",
       "      <th>99</th>\n",
       "      <td>7</td>\n",
       "      <td>4</td>\n",
       "      <td>0</td>\n",
       "    </tr>\n",
       "  </tbody>\n",
       "</table>\n",
       "<p>100 rows × 3 columns</p>\n",
       "</div>"
      ],
      "text/plain": [
       "    sleep_hours  friends  Nature\n",
       "0            11        6       0\n",
       "1             4        1       1\n",
       "2            11        6       0\n",
       "3             5        6       0\n",
       "4             4        3       1\n",
       "..          ...      ...     ...\n",
       "95           10        0       1\n",
       "96           11        5       0\n",
       "97           11        5       0\n",
       "98            3        1       1\n",
       "99            7        4       0\n",
       "\n",
       "[100 rows x 3 columns]"
      ]
     },
     "execution_count": 9,
     "metadata": {},
     "output_type": "execute_result"
    }
   ],
   "source": [
    "df"
   ]
  },
  {
   "cell_type": "code",
   "execution_count": 10,
   "id": "2dd83ce6",
   "metadata": {},
   "outputs": [],
   "source": [
    "bmi = rd.choices([12+ rd.random()*5,19 + rd.random()*5,25 + rd.random()*5,30 + rd.random()*5],k = 100)\n"
   ]
  },
  {
   "cell_type": "code",
   "execution_count": 11,
   "id": "8cb918b8",
   "metadata": {},
   "outputs": [],
   "source": [
    "df['BMI'] = bmi"
   ]
  },
  {
   "cell_type": "code",
   "execution_count": 12,
   "id": "1707aeb0",
   "metadata": {},
   "outputs": [],
   "source": [
    "score = rd.choices(range(35,100),k=100)\n"
   ]
  },
  {
   "cell_type": "code",
   "execution_count": 13,
   "id": "d4aad4af",
   "metadata": {},
   "outputs": [],
   "source": [
    "df['Academic_score'] = score"
   ]
  },
  {
   "cell_type": "code",
   "execution_count": 14,
   "id": "6ecae709",
   "metadata": {},
   "outputs": [],
   "source": [
    "stress = []\n",
    "for i in range(0,100):\n",
    "    if df.friends.iloc[i]<3 and df.Academic_score.iloc[i]<75 and df.BMI.iloc[i]>30:\n",
    "        stress.append(1)\n",
    "    elif df.Nature.iloc[i] == 1 and df.Academic_score.iloc[i]>60 and 18 < df.BMI.iloc[i] <24:\n",
    "        stress.append(0)\n",
    "    elif df.sleep_hours.iloc[i]<5:\n",
    "        stress.append(1)\n",
    "    else: stress.append(0)\n"
   ]
  },
  {
   "cell_type": "code",
   "execution_count": 15,
   "id": "7bfcbc64",
   "metadata": {},
   "outputs": [],
   "source": [
    "df['stress'] = stress"
   ]
  },
  {
   "cell_type": "code",
   "execution_count": 16,
   "id": "76fd5f66",
   "metadata": {},
   "outputs": [
    {
     "data": {
      "text/html": [
       "<div>\n",
       "<style scoped>\n",
       "    .dataframe tbody tr th:only-of-type {\n",
       "        vertical-align: middle;\n",
       "    }\n",
       "\n",
       "    .dataframe tbody tr th {\n",
       "        vertical-align: top;\n",
       "    }\n",
       "\n",
       "    .dataframe thead th {\n",
       "        text-align: right;\n",
       "    }\n",
       "</style>\n",
       "<table border=\"1\" class=\"dataframe\">\n",
       "  <thead>\n",
       "    <tr style=\"text-align: right;\">\n",
       "      <th></th>\n",
       "      <th>sleep_hours</th>\n",
       "      <th>friends</th>\n",
       "      <th>Nature</th>\n",
       "      <th>BMI</th>\n",
       "      <th>Academic_score</th>\n",
       "      <th>stress</th>\n",
       "    </tr>\n",
       "  </thead>\n",
       "  <tbody>\n",
       "    <tr>\n",
       "      <th>0</th>\n",
       "      <td>11</td>\n",
       "      <td>6</td>\n",
       "      <td>0</td>\n",
       "      <td>15.366272</td>\n",
       "      <td>83</td>\n",
       "      <td>0</td>\n",
       "    </tr>\n",
       "    <tr>\n",
       "      <th>1</th>\n",
       "      <td>4</td>\n",
       "      <td>1</td>\n",
       "      <td>1</td>\n",
       "      <td>30.721986</td>\n",
       "      <td>92</td>\n",
       "      <td>1</td>\n",
       "    </tr>\n",
       "    <tr>\n",
       "      <th>2</th>\n",
       "      <td>11</td>\n",
       "      <td>6</td>\n",
       "      <td>0</td>\n",
       "      <td>27.157230</td>\n",
       "      <td>69</td>\n",
       "      <td>0</td>\n",
       "    </tr>\n",
       "    <tr>\n",
       "      <th>3</th>\n",
       "      <td>5</td>\n",
       "      <td>6</td>\n",
       "      <td>0</td>\n",
       "      <td>15.366272</td>\n",
       "      <td>91</td>\n",
       "      <td>0</td>\n",
       "    </tr>\n",
       "    <tr>\n",
       "      <th>4</th>\n",
       "      <td>4</td>\n",
       "      <td>3</td>\n",
       "      <td>1</td>\n",
       "      <td>15.366272</td>\n",
       "      <td>76</td>\n",
       "      <td>1</td>\n",
       "    </tr>\n",
       "    <tr>\n",
       "      <th>...</th>\n",
       "      <td>...</td>\n",
       "      <td>...</td>\n",
       "      <td>...</td>\n",
       "      <td>...</td>\n",
       "      <td>...</td>\n",
       "      <td>...</td>\n",
       "    </tr>\n",
       "    <tr>\n",
       "      <th>95</th>\n",
       "      <td>10</td>\n",
       "      <td>0</td>\n",
       "      <td>1</td>\n",
       "      <td>30.721986</td>\n",
       "      <td>46</td>\n",
       "      <td>1</td>\n",
       "    </tr>\n",
       "    <tr>\n",
       "      <th>96</th>\n",
       "      <td>11</td>\n",
       "      <td>5</td>\n",
       "      <td>0</td>\n",
       "      <td>22.291169</td>\n",
       "      <td>36</td>\n",
       "      <td>0</td>\n",
       "    </tr>\n",
       "    <tr>\n",
       "      <th>97</th>\n",
       "      <td>11</td>\n",
       "      <td>5</td>\n",
       "      <td>0</td>\n",
       "      <td>30.721986</td>\n",
       "      <td>97</td>\n",
       "      <td>0</td>\n",
       "    </tr>\n",
       "    <tr>\n",
       "      <th>98</th>\n",
       "      <td>3</td>\n",
       "      <td>1</td>\n",
       "      <td>1</td>\n",
       "      <td>30.721986</td>\n",
       "      <td>71</td>\n",
       "      <td>1</td>\n",
       "    </tr>\n",
       "    <tr>\n",
       "      <th>99</th>\n",
       "      <td>7</td>\n",
       "      <td>4</td>\n",
       "      <td>0</td>\n",
       "      <td>22.291169</td>\n",
       "      <td>62</td>\n",
       "      <td>0</td>\n",
       "    </tr>\n",
       "  </tbody>\n",
       "</table>\n",
       "<p>100 rows × 6 columns</p>\n",
       "</div>"
      ],
      "text/plain": [
       "    sleep_hours  friends  Nature        BMI  Academic_score  stress\n",
       "0            11        6       0  15.366272              83       0\n",
       "1             4        1       1  30.721986              92       1\n",
       "2            11        6       0  27.157230              69       0\n",
       "3             5        6       0  15.366272              91       0\n",
       "4             4        3       1  15.366272              76       1\n",
       "..          ...      ...     ...        ...             ...     ...\n",
       "95           10        0       1  30.721986              46       1\n",
       "96           11        5       0  22.291169              36       0\n",
       "97           11        5       0  30.721986              97       0\n",
       "98            3        1       1  30.721986              71       1\n",
       "99            7        4       0  22.291169              62       0\n",
       "\n",
       "[100 rows x 6 columns]"
      ]
     },
     "execution_count": 16,
     "metadata": {},
     "output_type": "execute_result"
    }
   ],
   "source": [
    "df"
   ]
  },
  {
   "cell_type": "code",
   "execution_count": 17,
   "id": "813bbf59",
   "metadata": {},
   "outputs": [],
   "source": [
    "df.to_csv(\"Student_stress.csv\")"
   ]
  },
  {
   "cell_type": "code",
   "execution_count": null,
   "id": "26b0e440",
   "metadata": {},
   "outputs": [],
   "source": []
  },
  {
   "cell_type": "code",
   "execution_count": 18,
   "id": "50b5f9a7",
   "metadata": {},
   "outputs": [
    {
     "data": {
      "application/javascript": [
       "\n",
       "        if (window._pyforest_update_imports_cell) { window._pyforest_update_imports_cell('import pandas as pd'); }\n",
       "    "
      ],
      "text/plain": [
       "<IPython.core.display.Javascript object>"
      ]
     },
     "metadata": {},
     "output_type": "display_data"
    }
   ],
   "source": [
    "#loading Data set\n",
    "df1 = pd.read_csv(\"Student_stress.csv\",index_col = 0) "
   ]
  },
  {
   "cell_type": "code",
   "execution_count": 19,
   "id": "a89e66d2",
   "metadata": {},
   "outputs": [
    {
     "data": {
      "text/html": [
       "<div>\n",
       "<style scoped>\n",
       "    .dataframe tbody tr th:only-of-type {\n",
       "        vertical-align: middle;\n",
       "    }\n",
       "\n",
       "    .dataframe tbody tr th {\n",
       "        vertical-align: top;\n",
       "    }\n",
       "\n",
       "    .dataframe thead th {\n",
       "        text-align: right;\n",
       "    }\n",
       "</style>\n",
       "<table border=\"1\" class=\"dataframe\">\n",
       "  <thead>\n",
       "    <tr style=\"text-align: right;\">\n",
       "      <th></th>\n",
       "      <th>sleep_hours</th>\n",
       "      <th>friends</th>\n",
       "      <th>Nature</th>\n",
       "      <th>BMI</th>\n",
       "      <th>Academic_score</th>\n",
       "      <th>stress</th>\n",
       "    </tr>\n",
       "  </thead>\n",
       "  <tbody>\n",
       "    <tr>\n",
       "      <th>0</th>\n",
       "      <td>11</td>\n",
       "      <td>6</td>\n",
       "      <td>0</td>\n",
       "      <td>15.366272</td>\n",
       "      <td>83</td>\n",
       "      <td>0</td>\n",
       "    </tr>\n",
       "    <tr>\n",
       "      <th>1</th>\n",
       "      <td>4</td>\n",
       "      <td>1</td>\n",
       "      <td>1</td>\n",
       "      <td>30.721986</td>\n",
       "      <td>92</td>\n",
       "      <td>1</td>\n",
       "    </tr>\n",
       "    <tr>\n",
       "      <th>2</th>\n",
       "      <td>11</td>\n",
       "      <td>6</td>\n",
       "      <td>0</td>\n",
       "      <td>27.157230</td>\n",
       "      <td>69</td>\n",
       "      <td>0</td>\n",
       "    </tr>\n",
       "    <tr>\n",
       "      <th>3</th>\n",
       "      <td>5</td>\n",
       "      <td>6</td>\n",
       "      <td>0</td>\n",
       "      <td>15.366272</td>\n",
       "      <td>91</td>\n",
       "      <td>0</td>\n",
       "    </tr>\n",
       "    <tr>\n",
       "      <th>4</th>\n",
       "      <td>4</td>\n",
       "      <td>3</td>\n",
       "      <td>1</td>\n",
       "      <td>15.366272</td>\n",
       "      <td>76</td>\n",
       "      <td>1</td>\n",
       "    </tr>\n",
       "    <tr>\n",
       "      <th>...</th>\n",
       "      <td>...</td>\n",
       "      <td>...</td>\n",
       "      <td>...</td>\n",
       "      <td>...</td>\n",
       "      <td>...</td>\n",
       "      <td>...</td>\n",
       "    </tr>\n",
       "    <tr>\n",
       "      <th>95</th>\n",
       "      <td>10</td>\n",
       "      <td>0</td>\n",
       "      <td>1</td>\n",
       "      <td>30.721986</td>\n",
       "      <td>46</td>\n",
       "      <td>1</td>\n",
       "    </tr>\n",
       "    <tr>\n",
       "      <th>96</th>\n",
       "      <td>11</td>\n",
       "      <td>5</td>\n",
       "      <td>0</td>\n",
       "      <td>22.291169</td>\n",
       "      <td>36</td>\n",
       "      <td>0</td>\n",
       "    </tr>\n",
       "    <tr>\n",
       "      <th>97</th>\n",
       "      <td>11</td>\n",
       "      <td>5</td>\n",
       "      <td>0</td>\n",
       "      <td>30.721986</td>\n",
       "      <td>97</td>\n",
       "      <td>0</td>\n",
       "    </tr>\n",
       "    <tr>\n",
       "      <th>98</th>\n",
       "      <td>3</td>\n",
       "      <td>1</td>\n",
       "      <td>1</td>\n",
       "      <td>30.721986</td>\n",
       "      <td>71</td>\n",
       "      <td>1</td>\n",
       "    </tr>\n",
       "    <tr>\n",
       "      <th>99</th>\n",
       "      <td>7</td>\n",
       "      <td>4</td>\n",
       "      <td>0</td>\n",
       "      <td>22.291169</td>\n",
       "      <td>62</td>\n",
       "      <td>0</td>\n",
       "    </tr>\n",
       "  </tbody>\n",
       "</table>\n",
       "<p>100 rows × 6 columns</p>\n",
       "</div>"
      ],
      "text/plain": [
       "    sleep_hours  friends  Nature        BMI  Academic_score  stress\n",
       "0            11        6       0  15.366272              83       0\n",
       "1             4        1       1  30.721986              92       1\n",
       "2            11        6       0  27.157230              69       0\n",
       "3             5        6       0  15.366272              91       0\n",
       "4             4        3       1  15.366272              76       1\n",
       "..          ...      ...     ...        ...             ...     ...\n",
       "95           10        0       1  30.721986              46       1\n",
       "96           11        5       0  22.291169              36       0\n",
       "97           11        5       0  30.721986              97       0\n",
       "98            3        1       1  30.721986              71       1\n",
       "99            7        4       0  22.291169              62       0\n",
       "\n",
       "[100 rows x 6 columns]"
      ]
     },
     "execution_count": 19,
     "metadata": {},
     "output_type": "execute_result"
    }
   ],
   "source": [
    "df1"
   ]
  },
  {
   "cell_type": "code",
   "execution_count": 28,
   "id": "4a2dbe9d",
   "metadata": {},
   "outputs": [
    {
     "name": "stdout",
     "output_type": "stream",
     "text": [
      "<class 'pandas.core.frame.DataFrame'>\n",
      "Int64Index: 100 entries, 0 to 99\n",
      "Data columns (total 6 columns):\n",
      " #   Column          Non-Null Count  Dtype  \n",
      "---  ------          --------------  -----  \n",
      " 0   sleep_hours     100 non-null    int64  \n",
      " 1   friends         100 non-null    int64  \n",
      " 2   Nature          100 non-null    int64  \n",
      " 3   BMI             100 non-null    float64\n",
      " 4   Academic_score  100 non-null    int64  \n",
      " 5   stress          100 non-null    int64  \n",
      "dtypes: float64(1), int64(5)\n",
      "memory usage: 5.5 KB\n"
     ]
    }
   ],
   "source": [
    "df1.info()"
   ]
  },
  {
   "cell_type": "code",
   "execution_count": 29,
   "id": "38d8df49",
   "metadata": {},
   "outputs": [
    {
     "data": {
      "text/html": [
       "<div>\n",
       "<style scoped>\n",
       "    .dataframe tbody tr th:only-of-type {\n",
       "        vertical-align: middle;\n",
       "    }\n",
       "\n",
       "    .dataframe tbody tr th {\n",
       "        vertical-align: top;\n",
       "    }\n",
       "\n",
       "    .dataframe thead th {\n",
       "        text-align: right;\n",
       "    }\n",
       "</style>\n",
       "<table border=\"1\" class=\"dataframe\">\n",
       "  <thead>\n",
       "    <tr style=\"text-align: right;\">\n",
       "      <th></th>\n",
       "      <th>sleep_hours</th>\n",
       "      <th>friends</th>\n",
       "      <th>Nature</th>\n",
       "      <th>BMI</th>\n",
       "      <th>Academic_score</th>\n",
       "      <th>stress</th>\n",
       "    </tr>\n",
       "  </thead>\n",
       "  <tbody>\n",
       "    <tr>\n",
       "      <th>count</th>\n",
       "      <td>100.000000</td>\n",
       "      <td>100.00000</td>\n",
       "      <td>100.000000</td>\n",
       "      <td>100.000000</td>\n",
       "      <td>100.000000</td>\n",
       "      <td>100.000000</td>\n",
       "    </tr>\n",
       "    <tr>\n",
       "      <th>mean</th>\n",
       "      <td>6.200000</td>\n",
       "      <td>3.03000</td>\n",
       "      <td>0.530000</td>\n",
       "      <td>24.279070</td>\n",
       "      <td>67.490000</td>\n",
       "      <td>0.360000</td>\n",
       "    </tr>\n",
       "    <tr>\n",
       "      <th>std</th>\n",
       "      <td>2.839121</td>\n",
       "      <td>2.05704</td>\n",
       "      <td>0.501614</td>\n",
       "      <td>5.464780</td>\n",
       "      <td>19.816071</td>\n",
       "      <td>0.482418</td>\n",
       "    </tr>\n",
       "    <tr>\n",
       "      <th>min</th>\n",
       "      <td>2.000000</td>\n",
       "      <td>0.00000</td>\n",
       "      <td>0.000000</td>\n",
       "      <td>15.366272</td>\n",
       "      <td>35.000000</td>\n",
       "      <td>0.000000</td>\n",
       "    </tr>\n",
       "    <tr>\n",
       "      <th>25%</th>\n",
       "      <td>4.000000</td>\n",
       "      <td>1.00000</td>\n",
       "      <td>0.000000</td>\n",
       "      <td>22.291169</td>\n",
       "      <td>48.000000</td>\n",
       "      <td>0.000000</td>\n",
       "    </tr>\n",
       "    <tr>\n",
       "      <th>50%</th>\n",
       "      <td>6.000000</td>\n",
       "      <td>3.00000</td>\n",
       "      <td>1.000000</td>\n",
       "      <td>27.157230</td>\n",
       "      <td>70.500000</td>\n",
       "      <td>0.000000</td>\n",
       "    </tr>\n",
       "    <tr>\n",
       "      <th>75%</th>\n",
       "      <td>8.000000</td>\n",
       "      <td>5.00000</td>\n",
       "      <td>1.000000</td>\n",
       "      <td>28.048419</td>\n",
       "      <td>84.250000</td>\n",
       "      <td>1.000000</td>\n",
       "    </tr>\n",
       "    <tr>\n",
       "      <th>max</th>\n",
       "      <td>11.000000</td>\n",
       "      <td>6.00000</td>\n",
       "      <td>1.000000</td>\n",
       "      <td>30.721986</td>\n",
       "      <td>98.000000</td>\n",
       "      <td>1.000000</td>\n",
       "    </tr>\n",
       "  </tbody>\n",
       "</table>\n",
       "</div>"
      ],
      "text/plain": [
       "       sleep_hours    friends      Nature         BMI  Academic_score  \\\n",
       "count   100.000000  100.00000  100.000000  100.000000      100.000000   \n",
       "mean      6.200000    3.03000    0.530000   24.279070       67.490000   \n",
       "std       2.839121    2.05704    0.501614    5.464780       19.816071   \n",
       "min       2.000000    0.00000    0.000000   15.366272       35.000000   \n",
       "25%       4.000000    1.00000    0.000000   22.291169       48.000000   \n",
       "50%       6.000000    3.00000    1.000000   27.157230       70.500000   \n",
       "75%       8.000000    5.00000    1.000000   28.048419       84.250000   \n",
       "max      11.000000    6.00000    1.000000   30.721986       98.000000   \n",
       "\n",
       "           stress  \n",
       "count  100.000000  \n",
       "mean     0.360000  \n",
       "std      0.482418  \n",
       "min      0.000000  \n",
       "25%      0.000000  \n",
       "50%      0.000000  \n",
       "75%      1.000000  \n",
       "max      1.000000  "
      ]
     },
     "execution_count": 29,
     "metadata": {},
     "output_type": "execute_result"
    }
   ],
   "source": [
    "df1.describe()"
   ]
  },
  {
   "cell_type": "code",
   "execution_count": 31,
   "id": "2086562c",
   "metadata": {},
   "outputs": [],
   "source": [
    "x = df1.drop('stress',axis = 1)\n",
    "y = df1.stress"
   ]
  },
  {
   "cell_type": "code",
   "execution_count": 33,
   "id": "9050053b",
   "metadata": {},
   "outputs": [
    {
     "data": {
      "text/plain": [
       "0     0\n",
       "1     1\n",
       "2     0\n",
       "3     0\n",
       "4     1\n",
       "     ..\n",
       "95    1\n",
       "96    0\n",
       "97    0\n",
       "98    1\n",
       "99    0\n",
       "Name: stress, Length: 100, dtype: int64"
      ]
     },
     "execution_count": 33,
     "metadata": {},
     "output_type": "execute_result"
    }
   ],
   "source": []
  },
  {
   "cell_type": "code",
   "execution_count": 21,
   "id": "dfa757e4",
   "metadata": {},
   "outputs": [],
   "source": [
    "import seaborn as sns"
   ]
  },
  {
   "cell_type": "code",
   "execution_count": 26,
   "id": "ff1b2354",
   "metadata": {},
   "outputs": [],
   "source": [
    "import matplotlib.pyplot as plt"
   ]
  },
  {
   "cell_type": "code",
   "execution_count": 27,
   "id": "91c078ff",
   "metadata": {},
   "outputs": [
    {
     "data": {
      "text/plain": [
       "<AxesSubplot:>"
      ]
     },
     "execution_count": 27,
     "metadata": {},
     "output_type": "execute_result"
    },
    {
     "data": {
      "image/png": "[encoded data removed]",
      "text/plain": [
       "<Figure size 1008x576 with 2 Axes>"
      ]
     },
     "metadata": {
      "needs_background": "light"
     },
     "output_type": "display_data"
    }
   ],
   "source": [
    "plt.figure(figsize = (14,8))\n",
    "sns.heatmap(df1.corr(),annot = True)"
   ]
  },
  {
   "cell_type": "code",
   "execution_count": 34,
   "id": "5b5364a8",
   "metadata": {},
   "outputs": [],
   "source": [
    "from sklearn.model_selection import train_test_split\n",
    "trainx,testx,trainy,testy = train_test_split(x,y)"
   ]
  },
  {
   "cell_type": "code",
   "execution_count": 35,
   "id": "6b852d58",
   "metadata": {},
   "outputs": [],
   "source": [
    "from sklearn.svm import SVC\n",
    "svc = SVC()"
   ]
  },
  {
   "cell_type": "code",
   "execution_count": 36,
   "id": "40dc6237",
   "metadata": {},
   "outputs": [
    {
     "data": {
      "text/plain": [
       "SVC()"
      ]
     },
     "execution_count": 36,
     "metadata": {},
     "output_type": "execute_result"
    }
   ],
   "source": [
    "svc.fit(trainx,trainy)"
   ]
  },
  {
   "cell_type": "code",
   "execution_count": 37,
   "id": "3172ea18",
   "metadata": {},
   "outputs": [],
   "source": [
    "y_pred = svc.predict(testx)"
   ]
  },
  {
   "cell_type": "code",
   "execution_count": 41,
   "id": "7fc9a859",
   "metadata": {},
   "outputs": [
    {
     "data": {
      "text/plain": [
       "<AxesSubplot:>"
      ]
     },
     "execution_count": 41,
     "metadata": {},
     "output_type": "execute_result"
    },
    {
     "data": {
      "image/png": "[encoded data removed]",
      "text/plain": [
       "<Figure size 432x288 with 2 Axes>"
      ]
     },
     "metadata": {
      "needs_background": "light"
     },
     "output_type": "display_data"
    }
   ],
   "source": [
    "from sklearn.metrics import classification_report,accuracy_score,confusion_matrix\n",
    "sns.heatmap(confusion_matrix(testy,y_pred),annot = True)"
   ]
  },
  {
   "cell_type": "code",
   "execution_count": 43,
   "id": "90404d85",
   "metadata": {},
   "outputs": [
    {
     "name": "stdout",
     "output_type": "stream",
     "text": [
      "              precision    recall  f1-score   support\n",
      "\n",
      "           0       0.68      1.00      0.81        17\n",
      "           1       0.00      0.00      0.00         8\n",
      "\n",
      "    accuracy                           0.68        25\n",
      "   macro avg       0.34      0.50      0.40        25\n",
      "weighted avg       0.46      0.68      0.55        25\n",
      "\n"
     ]
    },
    {
     "name": "stderr",
     "output_type": "stream",
     "text": [
      "C:\\Users\\sriharsha\\anaconda3\\lib\\site-packages\\sklearn\\metrics\\_classification.py:1245: UndefinedMetricWarning: Precision and F-score are ill-defined and being set to 0.0 in labels with no predicted samples. Use `zero_division` parameter to control this behavior.\n",
      "  _warn_prf(average, modifier, msg_start, len(result))\n",
      "C:\\Users\\sriharsha\\anaconda3\\lib\\site-packages\\sklearn\\metrics\\_classification.py:1245: UndefinedMetricWarning: Precision and F-score are ill-defined and being set to 0.0 in labels with no predicted samples. Use `zero_division` parameter to control this behavior.\n",
      "  _warn_prf(average, modifier, msg_start, len(result))\n",
      "C:\\Users\\sriharsha\\anaconda3\\lib\\site-packages\\sklearn\\metrics\\_classification.py:1245: UndefinedMetricWarning: Precision and F-score are ill-defined and being set to 0.0 in labels with no predicted samples. Use `zero_division` parameter to control this behavior.\n",
      "  _warn_prf(average, modifier, msg_start, len(result))\n"
     ]
    }
   ],
   "source": [
    "print(classification_report(testy,y_pred))"
   ]
  },
  {
   "cell_type": "code",
   "execution_count": 44,
   "id": "dbf0813d",
   "metadata": {},
   "outputs": [
    {
     "data": {
      "text/plain": [
       "0.68"
      ]
     },
     "execution_count": 44,
     "metadata": {},
     "output_type": "execute_result"
    }
   ],
   "source": [
    "accuracy_score(testy,y_pred)"
   ]
  },
  {
   "cell_type": "code",
   "execution_count": null,
   "id": "aedaec05",
   "metadata": {},
   "outputs": [],
   "source": []
  },
  {
   "cell_type": "code",
   "execution_count": null,
   "id": "ca30a6d7",
   "metadata": {},
   "outputs": [],
   "source": []
  },
  {
   "cell_type": "code",
   "execution_count": null,
   "id": "8b68044c",
   "metadata": {},
   "outputs": [],
   "source": []
  },
  {
   "cell_type": "code",
   "execution_count": null,
   "id": "8ae7b1d1",
   "metadata": {},
   "outputs": [],
   "source": []
  },
  {
   "cell_type": "code",
   "execution_count": null,
   "id": "55e6ac50",
   "metadata": {},
   "outputs": [],
   "source": []
  },
  {
   "cell_type": "code",
   "execution_count": null,
   "id": "c172ea70",
   "metadata": {},
   "outputs": [],
   "source": []
  },
  {
   "cell_type": "code",
   "execution_count": null,
   "id": "87f4c700",
   "metadata": {},
   "outputs": [],
   "source": []
  },
  {
   "cell_type": "code",
   "execution_count": null,
   "id": "e32c1869",
   "metadata": {},
   "outputs": [],
   "source": []
  },
  {
   "cell_type": "code",
   "execution_count": null,
   "id": "362799e3",
   "metadata": {},
   "outputs": [],
   "source": []
  },
  {
   "cell_type": "code",
   "execution_count": null,
   "id": "eb69973e",
   "metadata": {},
   "outputs": [],
   "source": []
  },
  {
   "cell_type": "code",
   "execution_count": null,
   "id": "f8847154",
   "metadata": {},
   "outputs": [],
   "source": []
  },
  {
   "cell_type": "code",
   "execution_count": null,
   "id": "22e97344",
   "metadata": {},
   "outputs": [],
   "source": []
  },
  {
   "cell_type": "code",
   "execution_count": null,
   "id": "ce88b384",
   "metadata": {},
   "outputs": [],
   "source": []
  },
  {
   "cell_type": "code",
   "execution_count": null,
   "id": "21974a0f",
   "metadata": {},
   "outputs": [],
   "source": []
  }
 ],
 "metadata": {
  "kernelspec": {
   "display_name": "Python 3",
   "language": "python",
   "name": "python3"
  },
  "language_info": {
   "codemirror_mode": {
    "name": "ipython",
    "version": 3
   },
   "file_extension": ".py",
   "mimetype": "text/x-python",
   "name": "python",
   "nbconvert_exporter": "python",
   "pygments_lexer": "ipython3",
   "version": "3.8.8"
  }
 },
 "nbformat": 4,
 "nbformat_minor": 5
}
